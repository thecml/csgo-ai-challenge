{
 "cells": [
  {
   "cell_type": "code",
   "execution_count": 1,
   "metadata": {},
   "outputs": [],
   "source": [
    "import numpy as np\n",
    "import pandas as pd\n",
    "import src.file_reader as fr\n",
    "import src.file_writer as fw\n",
    "import src.config as cfg\n",
    "from tensorflow import keras\n",
    "\n",
    "X_train = fr.read_csv(cfg.PROCESSED_DATA_DIR, 'X_train.csv')\n",
    "X_valid = fr.read_csv(cfg.PROCESSED_DATA_DIR, 'X_valid.csv')\n",
    "y_train = fr.read_csv(cfg.PROCESSED_DATA_DIR, 'y_train.csv')\n",
    "y_valid = fr.read_csv(cfg.PROCESSED_DATA_DIR, 'y_valid.csv')"
   ]
  },
  {
   "cell_type": "code",
   "execution_count": 2,
   "metadata": {
    "tags": []
   },
   "outputs": [
    {
     "output_type": "stream",
     "name": "stdout",
     "text": "False\nFalse\nFalse\nFalse\n"
    }
   ],
   "source": [
    "print(X_train.isnull().values.any())\n",
    "print(X_valid.isnull().values.any())\n",
    "print(y_train.isnull().values.any())\n",
    "print(y_valid.isnull().values.any())"
   ]
  },
  {
   "cell_type": "code",
   "execution_count": 35,
   "metadata": {},
   "outputs": [
    {
     "output_type": "execute_result",
     "data": {
      "text/plain": "array([ 803, 1256, 1734, 2692, 2758, 3000, 3150, 3304, 3397, 4458, 4810,\n       4939, 6753], dtype=int64)"
     },
     "metadata": {},
     "execution_count": 35
    }
   ],
   "source": [
    "s = [X_train['round_status_time_left'] == -1]\n",
    "np.nonzero(s)[1]"
   ]
  },
  {
   "cell_type": "code",
   "execution_count": 37,
   "metadata": {
    "tags": []
   },
   "outputs": [
    {
     "output_type": "stream",
     "name": "stdout",
     "text": "1.0\n1.0\n1.0\n1.0\n1.0\n1.0\n1.0\n1.0\n1.0\n1.0\n1.0\n1.0\n1.0\n"
    }
   ],
   "source": [
    "for i in np.nonzero(s)[1]:\n",
    "    print(X_train.iloc[i].round_status_BombPlanted)"
   ]
  },
  {
   "cell_type": "code",
   "execution_count": 38,
   "metadata": {},
   "outputs": [
    {
     "output_type": "execute_result",
     "data": {
      "text/plain": "       round_status_time_left     ct_score      t_score  map_de_dust2  \\\ncount             8000.000000  8000.000000  8000.000000   8000.000000   \nmean                55.766915     6.461250     6.515750      0.211375   \nstd                 36.624992     4.495389     4.450335      0.408309   \nmin                 -1.000000     0.000000     0.000000      0.000000   \n25%                 19.970000     3.000000     3.000000      0.000000   \n50%                 54.885000     6.000000     6.000000      0.000000   \n75%                 94.850000    10.000000    10.000000      0.000000   \nmax                114.970000    20.000000    21.000000      1.000000   \n\n       map_de_inferno  map_de_mirage  map_de_nuke  map_de_overpass  \\\ncount     8000.000000    8000.000000  8000.000000      8000.000000   \nmean         0.211125       0.117875     0.162000         0.086625   \nstd          0.408132       0.322480     0.368474         0.281302   \nmin          0.000000       0.000000     0.000000         0.000000   \n25%          0.000000       0.000000     0.000000         0.000000   \n50%          0.000000       0.000000     0.000000         0.000000   \n75%          0.000000       0.000000     0.000000         0.000000   \nmax          1.000000       1.000000     1.000000         1.000000   \n\n       map_de_train  map_de_vertigo  ...  ct_weapon_FiveSeven  \\\ncount   8000.000000     8000.000000  ...          8000.000000   \nmean       0.127625        0.083375  ...             0.064375   \nstd        0.333693        0.276465  ...             0.288949   \nmin        0.000000        0.000000  ...             0.000000   \n25%        0.000000        0.000000  ...             0.000000   \n50%        0.000000        0.000000  ...             0.000000   \n75%        0.000000        0.000000  ...             0.000000   \nmax        1.000000        1.000000  ...             4.000000   \n\n       t_weapon_FiveSeven  ct_weapon_UspS  t_weapon_UspS  ct_weapon_P250  \\\ncount         8000.000000     8000.000000    8000.000000     8000.000000   \nmean             0.010375        3.226125       0.127875        0.221625   \nstd              0.104970        1.618509       0.426668        0.503775   \nmin              0.000000        0.000000       0.000000        0.000000   \n25%              0.000000        2.000000       0.000000        0.000000   \n50%              0.000000        4.000000       0.000000        0.000000   \n75%              0.000000        5.000000       0.000000        0.000000   \nmax              2.000000        5.000000       4.000000        4.000000   \n\n       t_weapon_P250  ct_weapon_P2000  t_weapon_P2000  ct_weapon_Tec9  \\\ncount    8000.000000      8000.000000     8000.000000     8000.000000   \nmean        0.313500         0.108000        0.005125        0.005250   \nstd         0.593095         0.341834        0.071410        0.072271   \nmin         0.000000         0.000000        0.000000        0.000000   \n25%         0.000000         0.000000        0.000000        0.000000   \n50%         0.000000         0.000000        0.000000        0.000000   \n75%         1.000000         0.000000        0.000000        0.000000   \nmax         4.000000         2.000000        1.000000        1.000000   \n\n       t_weapon_Tec9  \ncount    8000.000000  \nmean        0.026625  \nstd         0.166342  \nmin         0.000000  \n25%         0.000000  \n50%         0.000000  \n75%         0.000000  \nmax         2.000000  \n\n[8 rows x 92 columns]",
      "text/html": "<div>\n<style scoped>\n    .dataframe tbody tr th:only-of-type {\n        vertical-align: middle;\n    }\n\n    .dataframe tbody tr th {\n        vertical-align: top;\n    }\n\n    .dataframe thead th {\n        text-align: right;\n    }\n</style>\n<table border=\"1\" class=\"dataframe\">\n  <thead>\n    <tr style=\"text-align: right;\">\n      <th></th>\n      <th>round_status_time_left</th>\n      <th>ct_score</th>\n      <th>t_score</th>\n      <th>map_de_dust2</th>\n      <th>map_de_inferno</th>\n      <th>map_de_mirage</th>\n      <th>map_de_nuke</th>\n      <th>map_de_overpass</th>\n      <th>map_de_train</th>\n      <th>map_de_vertigo</th>\n      <th>...</th>\n      <th>ct_weapon_FiveSeven</th>\n      <th>t_weapon_FiveSeven</th>\n      <th>ct_weapon_UspS</th>\n      <th>t_weapon_UspS</th>\n      <th>ct_weapon_P250</th>\n      <th>t_weapon_P250</th>\n      <th>ct_weapon_P2000</th>\n      <th>t_weapon_P2000</th>\n      <th>ct_weapon_Tec9</th>\n      <th>t_weapon_Tec9</th>\n    </tr>\n  </thead>\n  <tbody>\n    <tr>\n      <th>count</th>\n      <td>8000.000000</td>\n      <td>8000.000000</td>\n      <td>8000.000000</td>\n      <td>8000.000000</td>\n      <td>8000.000000</td>\n      <td>8000.000000</td>\n      <td>8000.000000</td>\n      <td>8000.000000</td>\n      <td>8000.000000</td>\n      <td>8000.000000</td>\n      <td>...</td>\n      <td>8000.000000</td>\n      <td>8000.000000</td>\n      <td>8000.000000</td>\n      <td>8000.000000</td>\n      <td>8000.000000</td>\n      <td>8000.000000</td>\n      <td>8000.000000</td>\n      <td>8000.000000</td>\n      <td>8000.000000</td>\n      <td>8000.000000</td>\n    </tr>\n    <tr>\n      <th>mean</th>\n      <td>55.766915</td>\n      <td>6.461250</td>\n      <td>6.515750</td>\n      <td>0.211375</td>\n      <td>0.211125</td>\n      <td>0.117875</td>\n      <td>0.162000</td>\n      <td>0.086625</td>\n      <td>0.127625</td>\n      <td>0.083375</td>\n      <td>...</td>\n      <td>0.064375</td>\n      <td>0.010375</td>\n      <td>3.226125</td>\n      <td>0.127875</td>\n      <td>0.221625</td>\n      <td>0.313500</td>\n      <td>0.108000</td>\n      <td>0.005125</td>\n      <td>0.005250</td>\n      <td>0.026625</td>\n    </tr>\n    <tr>\n      <th>std</th>\n      <td>36.624992</td>\n      <td>4.495389</td>\n      <td>4.450335</td>\n      <td>0.408309</td>\n      <td>0.408132</td>\n      <td>0.322480</td>\n      <td>0.368474</td>\n      <td>0.281302</td>\n      <td>0.333693</td>\n      <td>0.276465</td>\n      <td>...</td>\n      <td>0.288949</td>\n      <td>0.104970</td>\n      <td>1.618509</td>\n      <td>0.426668</td>\n      <td>0.503775</td>\n      <td>0.593095</td>\n      <td>0.341834</td>\n      <td>0.071410</td>\n      <td>0.072271</td>\n      <td>0.166342</td>\n    </tr>\n    <tr>\n      <th>min</th>\n      <td>-1.000000</td>\n      <td>0.000000</td>\n      <td>0.000000</td>\n      <td>0.000000</td>\n      <td>0.000000</td>\n      <td>0.000000</td>\n      <td>0.000000</td>\n      <td>0.000000</td>\n      <td>0.000000</td>\n      <td>0.000000</td>\n      <td>...</td>\n      <td>0.000000</td>\n      <td>0.000000</td>\n      <td>0.000000</td>\n      <td>0.000000</td>\n      <td>0.000000</td>\n      <td>0.000000</td>\n      <td>0.000000</td>\n      <td>0.000000</td>\n      <td>0.000000</td>\n      <td>0.000000</td>\n    </tr>\n    <tr>\n      <th>25%</th>\n      <td>19.970000</td>\n      <td>3.000000</td>\n      <td>3.000000</td>\n      <td>0.000000</td>\n      <td>0.000000</td>\n      <td>0.000000</td>\n      <td>0.000000</td>\n      <td>0.000000</td>\n      <td>0.000000</td>\n      <td>0.000000</td>\n      <td>...</td>\n      <td>0.000000</td>\n      <td>0.000000</td>\n      <td>2.000000</td>\n      <td>0.000000</td>\n      <td>0.000000</td>\n      <td>0.000000</td>\n      <td>0.000000</td>\n      <td>0.000000</td>\n      <td>0.000000</td>\n      <td>0.000000</td>\n    </tr>\n    <tr>\n      <th>50%</th>\n      <td>54.885000</td>\n      <td>6.000000</td>\n      <td>6.000000</td>\n      <td>0.000000</td>\n      <td>0.000000</td>\n      <td>0.000000</td>\n      <td>0.000000</td>\n      <td>0.000000</td>\n      <td>0.000000</td>\n      <td>0.000000</td>\n      <td>...</td>\n      <td>0.000000</td>\n      <td>0.000000</td>\n      <td>4.000000</td>\n      <td>0.000000</td>\n      <td>0.000000</td>\n      <td>0.000000</td>\n      <td>0.000000</td>\n      <td>0.000000</td>\n      <td>0.000000</td>\n      <td>0.000000</td>\n    </tr>\n    <tr>\n      <th>75%</th>\n      <td>94.850000</td>\n      <td>10.000000</td>\n      <td>10.000000</td>\n      <td>0.000000</td>\n      <td>0.000000</td>\n      <td>0.000000</td>\n      <td>0.000000</td>\n      <td>0.000000</td>\n      <td>0.000000</td>\n      <td>0.000000</td>\n      <td>...</td>\n      <td>0.000000</td>\n      <td>0.000000</td>\n      <td>5.000000</td>\n      <td>0.000000</td>\n      <td>0.000000</td>\n      <td>1.000000</td>\n      <td>0.000000</td>\n      <td>0.000000</td>\n      <td>0.000000</td>\n      <td>0.000000</td>\n    </tr>\n    <tr>\n      <th>max</th>\n      <td>114.970000</td>\n      <td>20.000000</td>\n      <td>21.000000</td>\n      <td>1.000000</td>\n      <td>1.000000</td>\n      <td>1.000000</td>\n      <td>1.000000</td>\n      <td>1.000000</td>\n      <td>1.000000</td>\n      <td>1.000000</td>\n      <td>...</td>\n      <td>4.000000</td>\n      <td>2.000000</td>\n      <td>5.000000</td>\n      <td>4.000000</td>\n      <td>4.000000</td>\n      <td>4.000000</td>\n      <td>2.000000</td>\n      <td>1.000000</td>\n      <td>1.000000</td>\n      <td>2.000000</td>\n    </tr>\n  </tbody>\n</table>\n<p>8 rows × 92 columns</p>\n</div>"
     },
     "metadata": {},
     "execution_count": 38
    }
   ],
   "source": [
    "X_train.describe()"
   ]
  }
 ],
 "metadata": {
  "kernelspec": {
   "display_name": "Python 3",
   "language": "python",
   "name": "python3"
  },
  "language_info": {
   "codemirror_mode": {
    "name": "ipython",
    "version": 3
   },
   "file_extension": ".py",
   "mimetype": "text/x-python",
   "name": "python",
   "nbconvert_exporter": "python",
   "pygments_lexer": "ipython3",
   "version": "3.7.6"
  }
 },
 "nbformat": 4,
 "nbformat_minor": 4
}