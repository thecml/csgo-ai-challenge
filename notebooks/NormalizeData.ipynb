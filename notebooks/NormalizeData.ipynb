{
 "cells": [
  {
   "cell_type": "code",
   "execution_count": 163,
   "metadata": {
    "tags": []
   },
   "outputs": [],
   "source": [
    "import numpy as np\n",
    "import pandas as pd\n",
    "import matplotlib.pyplot as plt\n",
    "from matplotlib import pyplot\n",
    "from sklearn.preprocessing import power_transform\n",
    "from scipy import stats\n",
    "\n",
    "df = pd.read_csv('../data/processed/X_full.csv')\n",
    "\n",
    "def yeo_johnson(series):\n",
    "    arr = np.array(series).reshape(-1, 1)\n",
    "    return power_transform(arr, method='yeo-johnson')\n",
    "\n",
    "def box_johnson(series):\n",
    "    arr = np.array(series).reshape(-1, 1)\n",
    "    return power_transform(arr, method='box-cox')\n",
    "\n",
    "def stats_boxcox(series):\n",
    "    arr = np.array(series).reshape(-1, 1)\n",
    "    posdata = arr[arr > 0]\n",
    "    bcdata, lam = stats.boxcox(posdata)\n",
    "    x = np.empty_like(arr)\n",
    "    x[arr > 0] = bcdata\n",
    "    x[arr == 0] = -1/lam\n",
    "    return x\n",
    "\n",
    "# Add 1m55s to round if freezetime\n",
    "df['round_status_time_left'] = df.apply(add_round_time, axis=1)\n",
    "df = df.drop(['round_status_FreezeTime', 'round_status_Normal'], axis=1)\n",
    "\n",
    "# Clip roundtime value\n",
    "df['round_status_time_left'] = df['round_status_time_left'].clip(00.1, 175)\n",
    "\n",
    "# Drop map columns\n",
    "df = df.drop(df.columns[df.columns.str.contains('map')], axis=1)\n",
    "\n",
    "# Make data more Gaussian-like\n",
    "cols = ['ct_money', 't_money', 'ct_health',\n",
    " 't_health', 'ct_armor', 't_armor', 'ct_helmets', 't_helmets',\n",
    "  'ct_defuse_kits', 'ct_players', 't_players']\n",
    "for col in cols:\n",
    "    df[col] = yeo_johnson(df[col])"
   ]
  },
  {
   "cell_type": "code",
   "execution_count": 164,
   "metadata": {},
   "outputs": [
    {
     "data": {
      "text/plain": [
       "Index(['round_status_time_left', 'ct_score', 't_score',\n",
       "       'round_status_BombPlanted', 'ct_health', 't_health', 'ct_armor',\n",
       "       't_armor', 'ct_money', 't_money', 'ct_helmets', 't_helmets',\n",
       "       'ct_defuse_kits', 'ct_players', 't_players', 'ct_weapon_Ak47',\n",
       "       't_weapon_Ak47', 'ct_weapon_Aug', 't_weapon_Aug', 'ct_weapon_Awp',\n",
       "       't_weapon_Awp', 'ct_weapon_Bizon', 't_weapon_Bizon',\n",
       "       'ct_weapon_Cz75Auto', 't_weapon_Cz75Auto', 'ct_weapon_Elite',\n",
       "       't_weapon_Elite', 'ct_weapon_Famas', 't_weapon_Famas',\n",
       "       'ct_weapon_G3sg1', 't_weapon_G3sg1', 'ct_weapon_GalilAr',\n",
       "       't_weapon_GalilAr', 'ct_weapon_Glock', 't_weapon_Glock',\n",
       "       'ct_weapon_M249', 't_weapon_M249', 'ct_weapon_M4a1S', 't_weapon_M4a1S',\n",
       "       'ct_weapon_M4a4', 't_weapon_M4a4', 'ct_weapon_Mac10', 't_weapon_Mac10',\n",
       "       'ct_weapon_Mag7', 't_weapon_Mag7', 'ct_weapon_Mp5sd', 't_weapon_Mp5sd',\n",
       "       'ct_weapon_Mp7', 't_weapon_Mp7', 'ct_weapon_Mp9', 't_weapon_Mp9',\n",
       "       'ct_weapon_Negev', 't_weapon_Negev', 'ct_weapon_Nova', 't_weapon_Nova',\n",
       "       'ct_weapon_P90', 't_weapon_P90', 'ct_weapon_R8Revolver',\n",
       "       't_weapon_R8Revolver', 'ct_weapon_Sawedoff', 't_weapon_Sawedoff',\n",
       "       'ct_weapon_Scar20', 't_weapon_Scar20', 'ct_weapon_Sg553',\n",
       "       't_weapon_Sg553', 'ct_weapon_Ssg08', 't_weapon_Ssg08',\n",
       "       'ct_weapon_Ump45', 't_weapon_Ump45', 'ct_weapon_Xm1014',\n",
       "       't_weapon_Xm1014', 'ct_weapon_Deagle', 't_weapon_Deagle',\n",
       "       'ct_weapon_FiveSeven', 't_weapon_FiveSeven', 'ct_weapon_UspS',\n",
       "       't_weapon_UspS', 'ct_weapon_P250', 't_weapon_P250', 'ct_weapon_P2000',\n",
       "       't_weapon_P2000', 'ct_weapon_Tec9', 't_weapon_Tec9'],\n",
       "      dtype='object')"
      ]
     },
     "execution_count": 164,
     "metadata": {},
     "output_type": "execute_result"
    }
   ],
   "source": [
    "df.columns"
   ]
  }
 ],
 "metadata": {
  "kernelspec": {
   "display_name": "Python 3.7.7 64-bit ('py37': conda)",
   "language": "python",
   "name": "python37764bitpy37condae73393937a064ecf87a843ab0e5afb82"
  },
  "language_info": {
   "codemirror_mode": {
    "name": "ipython",
    "version": 3
   },
   "file_extension": ".py",
   "mimetype": "text/x-python",
   "name": "python",
   "nbconvert_exporter": "python",
   "pygments_lexer": "ipython3",
   "version": "3.7.7"
  }
 },
 "nbformat": 4,
 "nbformat_minor": 4
}
