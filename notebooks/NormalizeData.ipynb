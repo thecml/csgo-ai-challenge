{
 "cells": [
  {
   "cell_type": "code",
   "execution_count": 165,
   "metadata": {
    "tags": []
   },
   "outputs": [],
   "source": [
    "import numpy as np\n",
    "import pandas as pd\n",
    "import matplotlib.pyplot as plt\n",
    "from matplotlib import pyplot\n",
    "from sklearn.preprocessing import power_transform\n",
    "from scipy import stats\n",
    "\n",
    "df = pd.read_csv('../data/processed/X_full.csv')\n",
    "\n",
    "def yeo_johnson(series):\n",
    "    arr = np.array(series).reshape(-1, 1)\n",
    "    return power_transform(arr, method='yeo-johnson')\n",
    "\n",
    "def box_johnson(series):\n",
    "    arr = np.array(series).reshape(-1, 1)\n",
    "    return power_transform(arr, method='box-cox')\n",
    "\n",
    "def stats_boxcox(series):\n",
    "    arr = np.array(series).reshape(-1, 1)\n",
    "    posdata = arr[arr > 0]\n",
    "    bcdata, lam = stats.boxcox(posdata)\n",
    "    x = np.empty_like(arr)\n",
    "    x[arr > 0] = bcdata\n",
    "    x[arr == 0] = -1/la\n",
    "    return x\n",
    "\n",
    "# Add 1m55s to round if freezetime\n",
    "df['round_status_time_left'] = df.apply(add_round_time, axis=1)\n",
    "df = df.drop(['round_status_FreezeTime', 'round_status_Normal'], axis=1)\n",
    "\n",
    "# Clip roundtime value\n",
    "df['round_status_time_left'] = df['round_status_time_left'].clip(00.1, 175)\n",
    "\n",
    "# Drop map columns\n",
    "df = df.drop(df.columns[df.columns.str.contains('map')], axis=1)\n",
    "\n",
    "# Make data more Gaussian-like\n",
    "cols = ['ct_money', 't_money', 'ct_health',\n",
    " 't_health', 'ct_armor', 't_armor', 'ct_helmets', 't_helmets',\n",
    "  'ct_defuse_kits', 'ct_players', 't_players']\n",
    "for col in cols:\n",
    "    df[col] = yeo_johnson(df[col])"
   ]
  },
  {
   "cell_type": "code",
   "execution_count": 169,
   "metadata": {
    "scrolled": true
   },
   "outputs": [
    {
     "data": {
      "text/plain": [
       "(array([110572.,      0.,      0.,      0.,      0.,      0.,      0.,\n",
       "             0.,      0.,  12340.]),\n",
       " array([-3.34068091e-01, -1.26657052e-03,  3.31534950e-01,  6.64336471e-01,\n",
       "         9.97137991e-01,  1.32993951e+00,  1.66274103e+00,  1.99554255e+00,\n",
       "         2.32834407e+00,  2.66114559e+00,  2.99394711e+00]),\n",
       " <a list of 10 Patch objects>)"
      ]
     },
     "execution_count": 169,
     "metadata": {},
     "output_type": "execute_result"
    },
    {
     "data": {
      "image/png": "[encoded data removed]",
      "text/plain": [
       "<Figure size 432x288 with 1 Axes>"
      ]
     },
     "metadata": {
      "needs_background": "light"
     },
     "output_type": "display_data"
    }
   ],
   "source": [
    "plt.hist(df['ct_weapon_Aug'])"
   ]
  }
 ],
 "metadata": {
  "kernelspec": {
   "display_name": "Python 3.7.7 64-bit ('py37': conda)",
   "language": "python",
   "name": "python37764bitpy37condae73393937a064ecf87a843ab0e5afb82"
  },
  "language_info": {
   "codemirror_mode": {
    "name": "ipython",
    "version": 3
   },
   "file_extension": ".py",
   "mimetype": "text/x-python",
   "name": "python",
   "nbconvert_exporter": "python",
   "pygments_lexer": "ipython3",
   "version": "3.7.7"
  }
 },
 "nbformat": 4,
 "nbformat_minor": 4
}
